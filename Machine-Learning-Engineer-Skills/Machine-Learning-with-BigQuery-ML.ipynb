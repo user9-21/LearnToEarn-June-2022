{
 "cells": [
  {
   "cell_type": "code",
   "execution_count": null,
   "id": "08d04d85-fb0d-4ff2-a171-04bdfd00c19b",
   "metadata": {},
   "outputs": [],
   "source": []
  },
  {
   "cell_type": "code",
   "execution_count": null,
   "id": "74f06a48-6a89-48ec-aaac-5c63bbbec3a2",
   "metadata": {},
   "outputs": [],
   "source": []
  },
  {
   "cell_type": "code",
   "execution_count": null,
   "id": "eaf9ebc9-1963-4c56-bc7d-94745225f7d0",
   "metadata": {},
   "outputs": [],
   "source": [
    "%%bigquery\n",
    "SELECT\n",
    "  IF(arr_delay < 15, 'ontime', 'late') AS ontime,\n",
    "  dep_delay,\n",
    "  taxi_out,\n",
    "  distance,\n",
    "  IF(is_train_day = 'True', False, True) AS is_eval_day\n",
    "FROM dsongcp.flights_tzcorr f\n",
    "JOIN dsongcp.trainday t\n",
    "ON f.FL_DATE = t.FL_DATE\n",
    "WHERE\n",
    "  f.CANCELLED = False AND\n",
    "  f.DIVERTED = False\n",
    "LIMIT 5"
   ]
  },
  {
   "cell_type": "code",
   "execution_count": null,
   "id": "6e72130a-a80c-401b-9145-7b032d8e95b8",
   "metadata": {},
   "outputs": [],
   "source": []
  },
  {
   "cell_type": "code",
   "execution_count": null,
   "id": "2d421f47-0b45-445e-9874-7ead00a2a78f",
   "metadata": {},
   "outputs": [],
   "source": [
    "%%bigquery\n",
    "CREATE OR REPLACE MODEL dsongcp.arr_delay_lm\n",
    "OPTIONS(input_label_cols=['ontime'],\n",
    "        model_type='logistic_reg',\n",
    "        data_split_method='custom',\n",
    "        data_split_col='is_eval_day')\n",
    "AS\n",
    "SELECT\n",
    "  IF(arr_delay < 15, 'ontime', 'late') AS ontime,\n",
    "  dep_delay,\n",
    "  taxi_out,\n",
    "  distance,\n",
    "  IF(is_train_day = 'True', False, True) AS is_eval_day\n",
    "FROM dsongcp.flights_tzcorr f\n",
    "JOIN dsongcp.trainday t\n",
    "ON f.FL_DATE = t.FL_DATE\n",
    "WHERE\n",
    "  f.CANCELLED = False AND\n",
    "  f.DIVERTED = False"
   ]
  },
  {
   "cell_type": "code",
   "execution_count": null,
   "id": "77f5abee-ad43-44fd-afbe-6168f3aae536",
   "metadata": {},
   "outputs": [],
   "source": [
    "%%bigquery\n",
    "SELECT * FROM ML.TRAINING_INFO(MODEL dsongcp.arr_delay_lm)"
   ]
  },
  {
   "cell_type": "code",
   "execution_count": null,
   "id": "3a61a42b-ff67-4e6d-8751-a4663caadccd",
   "metadata": {},
   "outputs": [],
   "source": []
  },
  {
   "cell_type": "code",
   "execution_count": null,
   "id": "6e2ae4d3-568c-408d-904e-855eac011113",
   "metadata": {},
   "outputs": [],
   "source": [
    "###########################################################################################################"
   ]
  },
  {
   "cell_type": "code",
   "execution_count": null,
   "id": "987bab32-4814-459d-ba79-3d6c4922a88c",
   "metadata": {},
   "outputs": [],
   "source": [
    "%%bash\n",
    "echo Task 2 Completed"
   ]
  },
  {
   "cell_type": "code",
   "execution_count": null,
   "id": "67470e64-e7c2-4ea3-ab0d-09ce68c7e404",
   "metadata": {},
   "outputs": [],
   "source": []
  },
  {
   "cell_type": "code",
   "execution_count": null,
   "id": "fb7c829b-10d4-4d07-b99a-5d4d445aca6f",
   "metadata": {},
   "outputs": [],
   "source": [
    "%%bigquery\n",
    "SELECT *\n",
    "FROM ML.EVALUATE(MODEL dsongcp.arr_delay_lm,\n",
    "                 (\n",
    "                     \n",
    "SELECT\n",
    "  IF(arr_delay < 15, 'ontime', 'late') AS ontime,\n",
    "  dep_delay,\n",
    "  taxi_out,\n",
    "  distance\n",
    "FROM dsongcp.flights_tzcorr f\n",
    "JOIN dsongcp.trainday t\n",
    "ON f.FL_DATE = t.FL_DATE\n",
    "WHERE\n",
    "  f.CANCELLED = False AND\n",
    "  f.DIVERTED = False AND\n",
    "    is_train_day = 'False'\n",
    "                     \n",
    "                 ),\n",
    "                 STRUCT(0.7 AS threshold))"
   ]
  },
  {
   "cell_type": "code",
   "execution_count": null,
   "id": "e6f84e9b-308c-4ff2-ae89-80945de5d9c5",
   "metadata": {},
   "outputs": [],
   "source": [
    "%%bigquery\n",
    "SELECT * FROM ML.WEIGHTS(MODEL dsongcp.arr_delay_lm)"
   ]
  },
  {
   "cell_type": "code",
   "execution_count": null,
   "id": "b625b602-7a5a-441c-ae1d-1844ad53e99b",
   "metadata": {},
   "outputs": [],
   "source": [
    "%%bigquery\n",
    "SELECT * FROM ML.PREDICT(MODEL dsongcp.arr_delay_lm,\n",
    "                        (\n",
    "SELECT 12.0 AS dep_delay, 14.0 AS taxi_out, 1231 AS distance\n",
    "                        ))"
   ]
  },
  {
   "cell_type": "code",
   "execution_count": null,
   "id": "b8bcf211-263c-4788-8758-5bf3da77a4e7",
   "metadata": {},
   "outputs": [],
   "source": [
    "%%bigquery\n",
    "WITH predictions AS (\n",
    "SELECT\n",
    "  *\n",
    "FROM ML.PREDICT(MODEL dsongcp.arr_delay_lm,\n",
    "                 (\n",
    "SELECT\n",
    "  IF(arr_delay < 15, 'ontime', 'late') AS ontime,\n",
    "  dep_delay,\n",
    "  taxi_out,\n",
    "  distance\n",
    "FROM dsongcp.flights_tzcorr f\n",
    "JOIN dsongcp.trainday t\n",
    "ON f.FL_DATE = t.FL_DATE\n",
    "WHERE\n",
    "  f.CANCELLED = False AND\n",
    "  f.DIVERTED = False AND\n",
    "  t.is_train_day = 'False'\n",
    "                 ),\n",
    "                 STRUCT(0.7 AS threshold))),\n",
    "stats AS (\n",
    "SELECT\n",
    "  COUNTIF(ontime != 'ontime' AND ontime = predicted_ontime) AS correct_cancel\n",
    "  , COUNTIF(predicted_ontime = 'ontime') AS total_noncancel\n",
    "  , COUNTIF(ontime = 'ontime' AND ontime = predicted_ontime) AS correct_noncancel\n",
    "  , COUNTIF(ontime != 'ontime') AS total_cancel\n",
    "  , SQRT(SUM((IF(ontime = 'ontime', 1, 0) - p.prob) * (IF(ontime = 'ontime', 1, 0) - p.prob))/COUNT(*)) AS rmse\n",
    "FROM predictions, UNNEST(predicted_ontime_probs) p\n",
    "WHERE p.label = 'ontime'\n",
    ")\n",
    "SELECT\n",
    "   correct_cancel / total_cancel AS correct_cancel\n",
    "   , total_noncancel\n",
    "   , correct_noncancel / total_noncancel AS correct_noncancel\n",
    "   , total_cancel\n",
    "   , rmse\n",
    "FROM stats"
   ]
  },
  {
   "cell_type": "code",
   "execution_count": null,
   "id": "55118d77-dbaf-4541-9998-4cc15688e1b0",
   "metadata": {},
   "outputs": [],
   "source": [
    "%%bigquery\n",
    "CREATE OR REPLACE MODEL dsongcp.arr_delay_airports_lm\n",
    "OPTIONS(input_label_cols=['ontime'],\n",
    "        model_type='logistic_reg',\n",
    "        data_split_method='custom',\n",
    "        data_split_col='is_eval_day')\n",
    "AS\n",
    "SELECT\n",
    "  IF(arr_delay < 15, 'ontime', 'late') AS ontime,\n",
    "  dep_delay,\n",
    "  taxi_out,\n",
    "  distance,\n",
    "  origin,\n",
    "  dest,\n",
    "  IF(is_train_day = 'True', False, True) AS is_eval_day\n",
    "FROM dsongcp.flights_tzcorr f\n",
    "JOIN dsongcp.trainday t\n",
    "ON f.FL_DATE = t.FL_DATE\n",
    "WHERE\n",
    "  f.CANCELLED = False AND\n",
    "  f.DIVERTED = False"
   ]
  },
  {
   "cell_type": "code",
   "execution_count": null,
   "id": "6829e0f4-c8ae-414b-baf3-40ca949cebbf",
   "metadata": {},
   "outputs": [],
   "source": []
  },
  {
   "cell_type": "code",
   "execution_count": null,
   "id": "e8e7ef78-7e89-480a-833a-2be15fc944c9",
   "metadata": {},
   "outputs": [],
   "source": [
    "###########################################################################################################"
   ]
  },
  {
   "cell_type": "code",
   "execution_count": null,
   "id": "e2d86cb9-0cf6-4007-8451-662f7f7333ea",
   "metadata": {},
   "outputs": [],
   "source": [
    "%%bash\n",
    "echo Task 3 completed"
   ]
  },
  {
   "cell_type": "code",
   "execution_count": null,
   "id": "df770f30-f7ae-4682-8033-49765117a563",
   "metadata": {},
   "outputs": [],
   "source": []
  },
  {
   "cell_type": "code",
   "execution_count": null,
   "id": "6e624797-dbdb-4e3e-899c-a336904ee995",
   "metadata": {},
   "outputs": [],
   "source": [
    "%%bigquery\n",
    "SELECT *\n",
    "FROM ML.EVALUATE(MODEL dsongcp.arr_delay_airports_lm,\n",
    "                 (\n",
    "SELECT\n",
    "  IF(arr_delay < 15, 'ontime', 'late') AS ontime,\n",
    "  dep_delay,\n",
    "  taxi_out,\n",
    "  distance,\n",
    "  origin,\n",
    "  dest,\n",
    "  IF(is_train_day = 'True', False, True) AS is_eval_day\n",
    "FROM dsongcp.flights_tzcorr f\n",
    "JOIN dsongcp.trainday t\n",
    "ON f.FL_DATE = t.FL_DATE\n",
    "WHERE\n",
    "  f.CANCELLED = False AND\n",
    "  f.DIVERTED = False AND\n",
    "  t.is_train_day = 'False'\n",
    "                 ),\n",
    "                 STRUCT(0.7 AS threshold))"
   ]
  },
  {
   "cell_type": "code",
   "execution_count": null,
   "id": "3f7bae2e-a236-4c33-a4dd-283b2ce0f0dc",
   "metadata": {},
   "outputs": [],
   "source": [
    "%%bigquery\n",
    "WITH predictions AS (\n",
    "SELECT\n",
    "  *\n",
    "FROM ML.PREDICT(MODEL dsongcp.arr_delay_airports_lm,\n",
    "                 (\n",
    "SELECT\n",
    "  IF(arr_delay < 15, 'ontime', 'late') AS ontime,\n",
    "  dep_delay,\n",
    "  taxi_out,\n",
    "  distance,\n",
    "  origin,\n",
    "  dest,\n",
    "  IF(is_train_day = 'True', False, True) AS is_eval_day\n",
    "FROM dsongcp.flights_tzcorr f\n",
    "JOIN dsongcp.trainday t\n",
    "ON f.FL_DATE = t.FL_DATE\n",
    "WHERE\n",
    "  f.CANCELLED = False AND\n",
    "  f.DIVERTED = False AND\n",
    "  t.is_train_day = 'False'\n",
    "                 ),\n",
    "                 STRUCT(0.7 AS threshold))),\n",
    "stats AS (\n",
    "SELECT\n",
    "  COUNTIF(ontime != 'ontime' AND ontime = predicted_ontime) AS correct_cancel\n",
    "  , COUNTIF(predicted_ontime = 'ontime') AS total_noncancel\n",
    "  , COUNTIF(ontime = 'ontime' AND ontime = predicted_ontime) AS correct_noncancel\n",
    "  , COUNTIF(ontime != 'ontime') AS total_cancel\n",
    "  , SQRT(SUM((IF(ontime = 'ontime', 1, 0) - p.prob) * (IF(ontime = 'ontime', 1, 0) - p.prob))/COUNT(*)) AS rmse\n",
    "FROM predictions, UNNEST(predicted_ontime_probs) p\n",
    "WHERE p.label = 'ontime'\n",
    ")\n",
    "SELECT\n",
    "   correct_cancel / total_cancel AS correct_cancel\n",
    "   , total_noncancel\n",
    "   , correct_noncancel / total_noncancel AS correct_noncancel\n",
    "   , total_cancel\n",
    "   , rmse\n",
    "FROM stats"
   ]
  }
 ],
 "metadata": {
  "environment": {
   "kernel": "python3",
   "name": "tf2-cpu.2-6.m87",
   "type": "gcloud",
   "uri": "gcr.io/deeplearning-platform-release/tf2-cpu.2-6:m87"
  },
  "kernelspec": {
   "display_name": "Python 3",
   "language": "python",
   "name": "python3"
  },
  "language_info": {
   "codemirror_mode": {
    "name": "ipython",
    "version": 3
   },
   "file_extension": ".py",
   "mimetype": "text/x-python",
   "name": "python",
   "nbconvert_exporter": "python",
   "pygments_lexer": "ipython3",
   "version": "3.7.12"
  }
 },
 "nbformat": 4,
 "nbformat_minor": 5
}
